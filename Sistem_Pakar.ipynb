{
  "nbformat": 4,
  "nbformat_minor": 0,
  "metadata": {
    "colab": {
      "provenance": []
    },
    "kernelspec": {
      "name": "python3",
      "display_name": "Python 3"
    },
    "language_info": {
      "name": "python"
    }
  },
  "cells": [
    {
      "cell_type": "code",
      "execution_count": 1,
      "metadata": {
        "colab": {
          "base_uri": "https://localhost:8080/"
        },
        "id": "8iQmIY-K5d_G",
        "outputId": "9ca8b1d4-0d14-4480-9354-5e9d96e59dca"
      },
      "outputs": [
        {
          "output_type": "stream",
          "name": "stdout",
          "text": [
            "Collecting experta\n",
            "  Downloading experta-1.9.4-py3-none-any.whl.metadata (5.0 kB)\n",
            "Collecting frozendict==1.2 (from experta)\n",
            "  Downloading frozendict-1.2.tar.gz (2.6 kB)\n",
            "  Preparing metadata (setup.py) ... \u001b[?25l\u001b[?25hdone\n",
            "Collecting schema==0.6.7 (from experta)\n",
            "  Downloading schema-0.6.7-py2.py3-none-any.whl.metadata (14 kB)\n",
            "Downloading experta-1.9.4-py3-none-any.whl (35 kB)\n",
            "Downloading schema-0.6.7-py2.py3-none-any.whl (14 kB)\n",
            "Building wheels for collected packages: frozendict\n",
            "  Building wheel for frozendict (setup.py) ... \u001b[?25l\u001b[?25hdone\n",
            "  Created wheel for frozendict: filename=frozendict-1.2-py3-none-any.whl size=3149 sha256=91f1c0ed862dee58ddc681329e5a1aeb9258828e185bed18c673f93bc9ba3506\n",
            "  Stored in directory: /root/.cache/pip/wheels/49/ac/f8/cb8120244e710bdb479c86198b03c7b08c3c2d3d2bf448fd6e\n",
            "Successfully built frozendict\n",
            "Installing collected packages: schema, frozendict, experta\n",
            "  Attempting uninstall: frozendict\n",
            "    Found existing installation: frozendict 2.4.6\n",
            "    Uninstalling frozendict-2.4.6:\n",
            "      Successfully uninstalled frozendict-2.4.6\n",
            "\u001b[31mERROR: pip's dependency resolver does not currently take into account all the packages that are installed. This behaviour is the source of the following dependency conflicts.\n",
            "yfinance 0.2.55 requires frozendict>=2.3.4, but you have frozendict 1.2 which is incompatible.\u001b[0m\u001b[31m\n",
            "\u001b[0mSuccessfully installed experta-1.9.4 frozendict-1.2 schema-0.6.7\n"
          ]
        }
      ],
      "source": [
        "!pip install experta"
      ]
    },
    {
      "cell_type": "code",
      "source": [],
      "metadata": {
        "id": "fh9pIchiDJqX"
      },
      "execution_count": null,
      "outputs": []
    },
    {
      "cell_type": "code",
      "source": [
        "!pip install --upgrade frozendict"
      ],
      "metadata": {
        "colab": {
          "base_uri": "https://localhost:8080/"
        },
        "id": "5AxBG-fK5vlB",
        "outputId": "7d8a7009-7937-4fe8-f0a0-c624aef0eedb"
      },
      "execution_count": 2,
      "outputs": [
        {
          "output_type": "stream",
          "name": "stdout",
          "text": [
            "Requirement already satisfied: frozendict in /usr/local/lib/python3.11/dist-packages (1.2)\n",
            "Collecting frozendict\n",
            "  Downloading frozendict-2.4.6-py311-none-any.whl.metadata (23 kB)\n",
            "Downloading frozendict-2.4.6-py311-none-any.whl (16 kB)\n",
            "Installing collected packages: frozendict\n",
            "  Attempting uninstall: frozendict\n",
            "    Found existing installation: frozendict 1.2\n",
            "    Uninstalling frozendict-1.2:\n",
            "      Successfully uninstalled frozendict-1.2\n",
            "\u001b[31mERROR: pip's dependency resolver does not currently take into account all the packages that are installed. This behaviour is the source of the following dependency conflicts.\n",
            "experta 1.9.4 requires frozendict==1.2, but you have frozendict 2.4.6 which is incompatible.\u001b[0m\u001b[31m\n",
            "\u001b[0mSuccessfully installed frozendict-2.4.6\n"
          ]
        }
      ]
    },
    {
      "cell_type": "code",
      "source": [
        "from experta import *\n",
        "\n",
        "class Diagnosis(KnowledgeEngine):\n",
        "\n",
        "    @Rule(Fact(cough=True) & Fact(fever=True) & Fact(fatigue=True))\n",
        "    def flu(self):\n",
        "        print(\"Diagnosis: You may have the Flu.\")\n",
        "\n",
        "    @Rule(Fact(cough=True) & Fact(fever=True) & Fact(breathing_difficulty=True))\n",
        "    def pneumonia(self):\n",
        "        print(\"Diagnosis: You may have Pneumonia.\")\n",
        "\n",
        "    @Rule(Fact(sneezing=True) & Fact(runny_nose=True) & Fact(cough=False))\n",
        "    def cold(self):\n",
        "        print(\"Diagnosis: You may have a Common Cold.\")\n",
        "\n",
        "    @Rule(Fact(sore_throat=True) & Fact(fever=True))\n",
        "    def throat_infection(self):\n",
        "        print(\"Diagnosis: You may have a Throat Infection.\")\n",
        "\n",
        "    @Rule(Fact(cough=False) & Fact(fever=False) & Fact(fatigue=False))\n",
        "    def healthy(self):\n",
        "        print(\"Diagnosis: You seem to be healthy.\")\n",
        "\n",
        "    @Rule(Fact(fever=True) & Fact(headache=True) & Fact(nausea=True))\n",
        "    def dengue(self):\n",
        "        print(\"Diagnosis: You may have Dengue Fever.\")\n",
        "\n",
        "    @Rule(Fact(sneezing=True) & Fact(itchy_eyes=True) & Fact(runny_nose=True))\n",
        "    def allergy(self):\n",
        "        print(\"Diagnosis: You may have Allergies.\")\n",
        "\n",
        "    @Rule(Fact(cough=True) & Fact(wheezing=True) & Fact(breathing_difficulty=True))\n",
        "    def asthma(self):\n",
        "        print(\"Diagnosis: You may have Asthma.\")\n",
        "\n",
        "    @Rule(Fact(stomach_pain=True) & Fact(nausea=True) & Fact(diarrhea=True))\n",
        "    def food_poisoning(self):\n",
        "        print(\"Diagnosis: You may have Food Poisoning.\")\n",
        "\n",
        "    @Rule(Fact(headache=True) & Fact(vision_blur=True) & Fact(nausea=True))\n",
        "    def migraine(self):\n",
        "        print(\"Diagnosis: You may have a Migraine.\")\n",
        "\n",
        "    @Rule(Fact(fatigue=True) & Fact(weight_loss=True) & Fact(thirst=True))\n",
        "    def diabetes(self):\n",
        "        print(\"Diagnosis: You may have symptoms of Diabetes.\")\n",
        "\n",
        "def get_input():\n",
        "    \"\"\"Helper function to get user input as boolean (yes/no).\"\"\"\n",
        "    def ask_question(question):\n",
        "        return input(question + \" (yes/no): \").strip().lower() == \"yes\"\n",
        "\n",
        "    return {\n",
        "        \"cough\": ask_question(\"Do you have a cough?\"),\n",
        "        \"fever\": ask_question(\"Do you have a fever?\"),\n",
        "        \"fatigue\": ask_question(\"Do you feel fatigued?\"),\n",
        "        \"breathing_difficulty\": ask_question(\"Do you have breathing difficulties?\"),\n",
        "        \"sneezing\": ask_question(\"Are you sneezing?\"),\n",
        "        \"runny_nose\": ask_question(\"Do you have a runny nose?\"),\n",
        "        \"sore_throat\": ask_question(\"Do you have a sore throat?\"),\n",
        "        \"headache\": ask_question(\"Do you have a headache?\"),\n",
        "        \"nausea\": ask_question(\"Do you feel nauseous?\"),\n",
        "        \"itchy_eyes\": ask_question(\"Do you have itchy eyes?\"),\n",
        "        \"wheezing\": ask_question(\"Are you wheezing?\"),\n",
        "        \"stomach_pain\": ask_question(\"Do you have stomach pain?\"),\n",
        "        \"diarrhea\": ask_question(\"Do you have diarrhea?\"),\n",
        "        \"vision_blur\": ask_question(\"Do you have blurred vision?\"),\n",
        "        \"weight_loss\": ask_question(\"Have you experienced weight loss?\"),\n",
        "        \"thirst\": ask_question(\"Do you feel excessively thirsty?\")\n",
        "    }\n",
        "\n",
        "# Running the Expert System\n",
        "if __name__ == \"__main__\":\n",
        "    symptoms = get_input()\n",
        "    engine = Diagnosis()\n",
        "    engine.reset()  # Reset the knowledge engine\n",
        "\n",
        "    for symptom, present in symptoms.items():\n",
        "        engine.declare(Fact(**{symptom: present}))  # Declare facts\n",
        "\n",
        "    engine.run()  # Run the inference engine\n"
      ],
      "metadata": {
        "colab": {
          "base_uri": "https://localhost:8080/"
        },
        "id": "6ogeKVHZ59G_",
        "outputId": "adcfa2bf-5da4-4009-ca46-86721631a6fa"
      },
      "execution_count": 5,
      "outputs": [
        {
          "output_type": "stream",
          "name": "stdout",
          "text": [
            "Do you have a cough? (yes/no): no\n",
            "Do you have a fever? (yes/no): no\n",
            "Do you feel fatigued? (yes/no): yes\n",
            "Do you have breathing difficulties? (yes/no): no\n",
            "Are you sneezing? (yes/no): no\n",
            "Do you have a runny nose? (yes/no): no\n",
            "Do you have a sore throat? (yes/no): no\n",
            "Do you have a headache? (yes/no): no\n",
            "Do you feel nauseous? (yes/no): no\n",
            "Do you have itchy eyes? (yes/no): no\n",
            "Are you wheezing? (yes/no): no\n",
            "Do you have stomach pain? (yes/no): no\n",
            "Do you have diarrhea? (yes/no): no\n",
            "Do you have blurred vision? (yes/no): no\n",
            "Have you experienced weight loss? (yes/no): yes\n",
            "Do you feel excessively thirsty? (yes/no): yes\n",
            "Diagnosis: You may have symptoms of Diabetes.\n"
          ]
        }
      ]
    },
    {
      "cell_type": "code",
      "source": [
        "from experta import *\n",
        "\n",
        "class SistemPakarMedis(KnowledgeEngine):\n",
        "\n",
        "    @Rule(Fact(demam=True) & Fact(batuk=True))\n",
        "    def flu(self):\n",
        "        print(\"Diagnosis: Flu.\")\n",
        "\n",
        "    @Rule(Fact(sakit_tenggorokan=True) & Fact(demam=True))\n",
        "    def throat_infection(self):\n",
        "        print(\"Diagnosis: Radang Tenggorokan.\")\n",
        "\n",
        "# Running the Expert System\n",
        "engine = SistemPakarMedis()\n",
        "engine.reset()\n",
        "engine.declare(Fact(demam=True))\n",
        "engine.declare(Fact(sakit_tenggorokan=True))  # Input symptoms\n",
        "engine.run()"
      ],
      "metadata": {
        "colab": {
          "base_uri": "https://localhost:8080/"
        },
        "id": "Gi6v1ARyDLoG",
        "outputId": "fffa5761-01ce-4312-89ba-41dc110af378"
      },
      "execution_count": 6,
      "outputs": [
        {
          "output_type": "stream",
          "name": "stdout",
          "text": [
            "Diagnosis: Radang Tenggorokan.\n"
          ]
        }
      ]
    },
    {
      "cell_type": "code",
      "source": [
        "def forward_chaining(facts, rules):\n",
        "    inferred = set(facts)\n",
        "    changed = True\n",
        "\n",
        "    while changed:\n",
        "        changed = False\n",
        "        for rule in rules:\n",
        "            if rule[\"if\"].issubset(inferred) and rule[\"then\"] not in inferred:\n",
        "                inferred.add(rule[\"then\"])\n",
        "                changed = True\n",
        "    return inferred\n",
        "\n",
        "facts = {\"has_feathers\", \"can_fly\", \"lays_eggs\"}\n",
        "rules = [\n",
        "    {\"if\": {\"has_feathers\", \"can_fly\"}, \"then\": \"is_bird\"},\n",
        "    {\"if\": {\"lays_eggs\", \"is_bird\"}, \"then\": \"is_chicken\"}\n",
        "]\n",
        "\n",
        "result = forward_chaining(facts, rules)\n",
        "print(\"Inferred facts:\", result)"
      ],
      "metadata": {
        "colab": {
          "base_uri": "https://localhost:8080/"
        },
        "id": "_gKosDp6IUVB",
        "outputId": "87ffe5bd-6818-40f1-dd16-ce072cc60463"
      },
      "execution_count": 7,
      "outputs": [
        {
          "output_type": "stream",
          "name": "stdout",
          "text": [
            "Inferred facts: {'is_bird', 'lays_eggs', 'has_feathers', 'can_fly', 'is_chicken'}\n"
          ]
        }
      ]
    },
    {
      "cell_type": "code",
      "source": [
        "from experta import *\n",
        "\n",
        "class CareerExpert(KnowledgeEngine):\n",
        "\n",
        "    @Rule(Fact(career=\"Software Engineer\"),\n",
        "          Fact(logic=True), Fact(math=True), Fact(coding=True))\n",
        "    def software_engineer(self):\n",
        "        print(\"You qualify to be a Software Engineer!\")\n",
        "\n",
        "    @Rule(Fact(career=\"Doctor\"),\n",
        "          Fact(medical=True), Fact(science=True), Fact(problem_solving=True))\n",
        "    def doctor(self):\n",
        "        print(\"You qualify to be a Doctor!\")\n",
        "\n",
        "# Running the Expert System\n",
        "engine = CareerExpert()\n",
        "engine.reset()\n",
        "\n",
        "# Set a goal: Check if the user can be a Software Engineer\n",
        "engine.declare(Fact(career=\"Doctor\"))\n",
        "engine.declare(Fact(medical=True))\n",
        "engine.declare(Fact(science=True))\n",
        "engine.declare(Fact(problem_solving=True))  # Skills possessed\n",
        "\n",
        "engine.run()"
      ],
      "metadata": {
        "colab": {
          "base_uri": "https://localhost:8080/"
        },
        "id": "Q5xm0IJHNWOL",
        "outputId": "7e0c13bf-2edf-460a-f32f-43745b4d1fdc"
      },
      "execution_count": 8,
      "outputs": [
        {
          "output_type": "stream",
          "name": "stdout",
          "text": [
            "You qualify to be a Doctor!\n"
          ]
        }
      ]
    },
    {
      "cell_type": "code",
      "source": [
        "def backward_chaining(goal, facts, rules):\n",
        "    if goal in facts:\n",
        "        return True\n",
        "    for rule in rules:\n",
        "        if rule[\"then\"] == goal:\n",
        "            if all(backward_chaining(cond, facts, rules) for cond in rule[\"if\"]):\n",
        "                return True\n",
        "    return False\n",
        "\n",
        "facts = {\"likes_computers\", \"solves_problems\"}\n",
        "rules = [\n",
        "    {\"if\": {\"likes_computers\", \"solves_problems\"}, \"then\": \"should_be_engineer\"},\n",
        "    {\"if\": {\"should_be_engineer\", \"likes_programming\"}, \"then\": \"software_engineer\"}\n",
        "]\n",
        "\n",
        "goal = \"software_engineer\"\n",
        "result = backward_chaining(goal, facts, rules)\n",
        "print(f\"Is '{goal}' provable? ->\", result)"
      ],
      "metadata": {
        "colab": {
          "base_uri": "https://localhost:8080/"
        },
        "id": "tuDXXMIRN5CT",
        "outputId": "8d535fbf-3ea6-4076-a2a4-8b8f75925614"
      },
      "execution_count": 9,
      "outputs": [
        {
          "output_type": "stream",
          "name": "stdout",
          "text": [
            "Is 'software_engineer' provable? -> False\n"
          ]
        }
      ]
    },
    {
      "cell_type": "code",
      "source": [
        "def forward_chaining(facts, rules):\n",
        "    inferred = set(facts)\n",
        "    changed = True\n",
        "\n",
        "    while changed:\n",
        "        changed = False\n",
        "        for rule in rules:\n",
        "            if rule[\"if\"].issubset(inferred) and rule[\"then\"] not in inferred:\n",
        "                inferred.add(rule[\"then\"])\n",
        "                changed = True\n",
        "    return inferred\n",
        "\n",
        "facts = {\"has_wheels\", \"has_engine\",\"has_four_wheels\"}\n",
        "rules = [\n",
        "    {\"if\": {\"has_wheels\", \"has_engine\"}, \"then\": \"is_vehicle\"},\n",
        "    {\"if\": {\"is_vehicle\", \"has_two_wheels\"}, \"then\": \"is_motorcycle\"},\n",
        "    {\"if\": {\"is_vehicle\", \"has_four_wheels\"}, \"then\": \"is_car\"}\n",
        "]\n",
        "\n",
        "result = forward_chaining(facts, rules)\n",
        "print(\"Inferred facts:\", result)"
      ],
      "metadata": {
        "colab": {
          "base_uri": "https://localhost:8080/"
        },
        "id": "Kml0FxHyQp0o",
        "outputId": "2d71831d-b6c9-4183-b026-9ba0e0bd547d"
      },
      "execution_count": 10,
      "outputs": [
        {
          "output_type": "stream",
          "name": "stdout",
          "text": [
            "Inferred facts: {'has_engine', 'is_car', 'has_wheels', 'is_vehicle', 'has_four_wheels'}\n"
          ]
        }
      ]
    },
    {
      "cell_type": "code",
      "source": [
        "def backward_chaining(goal, facts, rules):\n",
        "    if goal in facts:\n",
        "        return True\n",
        "    for rule in rules:\n",
        "        if rule[\"then\"] == goal:\n",
        "            if all(backward_chaining(cond, facts, rules) for cond in rule[\"if\"]):\n",
        "                return True\n",
        "    return False\n",
        "\n",
        "facts = {\"has_feathers\", \"he_small_wings\"}\n",
        "rules = [\n",
        "    {\"if\": {\"is_bird\", \"cannot_fly\"}, \"then\": \"is_pinguin\"},\n",
        "    {\"if\": {\"has_feathers\"}, \"then\": \"is_bird\"},\n",
        "    {\"if\": {\"he_small_wings\"}, \"then\": \"cannot_fly\"}\n",
        "]\n",
        "\n",
        "goal = \"is_pinguin\"\n",
        "result = backward_chaining(goal, facts, rules)\n",
        "print(f\"Is '{goal}' provable? ->\", result)"
      ],
      "metadata": {
        "colab": {
          "base_uri": "https://localhost:8080/"
        },
        "id": "4NBsPOcRTJWO",
        "outputId": "24957fd9-baa1-40c1-f880-3e7f5071012b"
      },
      "execution_count": 11,
      "outputs": [
        {
          "output_type": "stream",
          "name": "stdout",
          "text": [
            "Is 'is_pinguin' provable? -> True\n"
          ]
        }
      ]
    }
  ]
}